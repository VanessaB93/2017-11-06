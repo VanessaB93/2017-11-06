{
 "cells": [
  {
   "cell_type": "markdown",
   "metadata": {},
   "source": [
    "WORKSHOP 3 (Modellino Chiesa Leonardo da Vinci)\n",
    "=========="
   ]
  },
  {
   "cell_type": "code",
   "execution_count": 15,
   "metadata": {
    "collapsed": true
   },
   "outputs": [],
   "source": [
    "from larlib import *"
   ]
  },
  {
   "cell_type": "code",
   "execution_count": 16,
   "metadata": {
    "collapsed": true
   },
   "outputs": [],
   "source": [
    "from pyplasm import *"
   ]
  },
  {
   "cell_type": "code",
   "execution_count": 22,
   "metadata": {
    "collapsed": true
   },
   "outputs": [],
   "source": [
    "def base (diametro):                                                ###ho generato i vari gradini della base\n",
    "    GradinoInferiore = CYLINDER ([diametro+0.5, 0.2])(60)\n",
    "    GradinoCentrale = T(3)(0.2) (CYLINDER([diametro, 0.15])(60))\n",
    "    GradinoSuperiore = T(3)(0.35) (CYLINDER([diametro-0.5, 0.15])(60))\n",
    "    return STRUCT([GradinoInferiore, GradinoCentrale, GradinoSuperiore])\n",
    "\n",
    "def entrata (dimensione):                                            \n",
    "    punti = [[0,0,0], [dimensione,2,0], [dimensione,-2,0], [dimensione,2,8], [dimensione,-2,8], [0,0,0]]\n",
    "    toBRemoved = JOIN(AA(MK)(punti))\n",
    "    return STRUCT([toBRemoved])\n",
    "\n",
    "def struttura (diametro):  \n",
    "    Struttura1 = T(3)(0.50)(CYLINDER ([diametro,10])(40))\n",
    "    BaseAlta = T(3)(10.5) (CYLINDER ([diametro+0.5, 0.25])(40))\n",
    "    Entrata2 = entrata(diametro)\n",
    "    Struttura2 = STRUCT([Struttura1,BaseAlta])\n",
    "    return DIFFERENCE([Struttura2,Entrata2])\n",
    "\n",
    "\n",
    "def cilindro (larghezza,altezza):\n",
    "    return JOIN(CYLINDER([larghezza,altezza])(8))\n",
    "def cupola(x,y):\n",
    "    sfera=JOIN(SPHERE(x)([y,8]))\n",
    "    cubo=T([1,2])([-x,-x])(CUBOID([x*3,x*3,x*3]))\n",
    "    cup=INTERSECTION([cubo,sfera])\n",
    "    return cup\n",
    "def cupolaCompleta (larghezza,altezza):                             ###ho generato le cupole da inserire nella Chiesa\n",
    "    a=int(larghezza)\n",
    "    cp=cupola(larghezza,a*3)\n",
    "    BaseInferiore=cilindro(larghezza,altezza/1.8)\n",
    "    BaseSuperiore=cilindro(larghezza*1.1,altezza/10)\n",
    "    return TOP([TOP([(BaseInferiore),(BaseSuperiore)]),(cp)])\n",
    "\n",
    "\n",
    "def puntale(larghezza):\n",
    "    BasePiccola = CUBOID([1,1,0.2])\n",
    "    BaseGrande = T([1,2,3])([0.1,0.1,0.2])(CUBOID([0.8,0.8,1.3]))\n",
    "    BasePiccola2 = STRUCT(NN(2)([BasePiccola,T(3)(1.5)]))\n",
    "    punta = T([1,2,3])([0.5,0.5,1.7])(CONE([0.45,1.4])(20))\n",
    "    return STRUCT([BaseGrande,BasePiccola2,punta])\n",
    "\n",
    "\n",
    "def LeonardoChiesa (larghezza,altezza,diametro,diametro1):\n",
    "    stru=struttura(diametro)\n",
    "    cupol=cupolaCompleta(larghezza,altezza)\n",
    "    ba=base(diametro1)\n",
    "    punt=puntale(larghezza)\n",
    "    return STRUCT([stru,ba,T([1,2,3])([-2.8,6,10.7])(cupol), T([1,2,3])([2.8,6.2,10.7])(cupol), T([1,2,3])([6.2,-2.2,10.7])(cupol), T([1,2,3])([-6,2.4,10.7])(cupol), T([1,2,3])([6.2,2.7,10.7])(cupol), T([1,2,3])([2.5,-5.9,10.7])(cupol), T([1,2,3])([-2.7,-6,10.7])(cupol), T([1,2,3])([-5.9,-2.5,10.7])(cupol), T([1,2,3])([0,0,10.7]), S([1,2,3])([2.1,2.1,2.4])(cupol), T([1,2,3])([-0.5,-0.6,9])(punt)])\n"
   ]
  },
  {
   "cell_type": "code",
   "execution_count": 23,
   "metadata": {},
   "outputs": [
    {
     "data": {
      "text/plain": [
       "<pyplasm.xgepy.Hpc; proxy of <Swig Object of type 'std::shared_ptr< Hpc > *' at 0x0000023F07A55990> >"
      ]
     },
     "execution_count": 23,
     "metadata": {},
     "output_type": "execute_result"
    }
   ],
   "source": [
    "VIEW(base(8.5))"
   ]
  },
  {
   "cell_type": "markdown",
   "metadata": {},
   "source": [
    "![\"Workshop 3.base\"](Workshop 3.base.jpg)"
   ]
  },
  {
   "cell_type": "code",
   "execution_count": 24,
   "metadata": {},
   "outputs": [
    {
     "data": {
      "text/plain": [
       "<pyplasm.xgepy.Hpc; proxy of <Swig Object of type 'std::shared_ptr< Hpc > *' at 0x0000023F07A559F0> >"
      ]
     },
     "execution_count": 24,
     "metadata": {},
     "output_type": "execute_result"
    }
   ],
   "source": [
    "VIEW(struttura(8.5))"
   ]
  },
  {
   "cell_type": "markdown",
   "metadata": {},
   "source": [
    "![\"Workshop 3.struttura\"](Workshop 3.struttura.jpg)"
   ]
  },
  {
   "cell_type": "code",
   "execution_count": 25,
   "metadata": {},
   "outputs": [
    {
     "name": "stdout",
     "output_type": "stream",
     "text": [
      "Child 3\n"
     ]
    },
    {
     "data": {
      "text/plain": [
       "<pyplasm.xgepy.Hpc; proxy of <Swig Object of type 'std::shared_ptr< Hpc > *' at 0x0000023F07A55690> >"
      ]
     },
     "execution_count": 25,
     "metadata": {},
     "output_type": "execute_result"
    }
   ],
   "source": [
    "VIEW(cupolaCompleta(2,2.8))"
   ]
  },
  {
   "cell_type": "markdown",
   "metadata": {},
   "source": [
    "![\"Workshop 3.cupolaCompleta\"](Workshop 3.cupolaCompleta.jpg)"
   ]
  },
  {
   "cell_type": "code",
   "execution_count": 26,
   "metadata": {},
   "outputs": [
    {
     "name": "stdout",
     "output_type": "stream",
     "text": [
      "Child 3\n"
     ]
    },
    {
     "data": {
      "text/plain": [
       "<pyplasm.xgepy.Hpc; proxy of <Swig Object of type 'std::shared_ptr< Hpc > *' at 0x0000023F07A55D20> >"
      ]
     },
     "execution_count": 26,
     "metadata": {},
     "output_type": "execute_result"
    }
   ],
   "source": [
    "VIEW(LeonardoChiesa(2,2.8,8.5,10))"
   ]
  },
  {
   "cell_type": "markdown",
   "metadata": {},
   "source": [
    "![\"Workshop 3.Chiesa\"](Workshop 3.Chiesa.jpg)"
   ]
  },
  {
   "cell_type": "code",
   "execution_count": null,
   "metadata": {
    "collapsed": true
   },
   "outputs": [],
   "source": []
  }
 ],
 "metadata": {
  "kernelspec": {
   "display_name": "Python 3",
   "language": "python",
   "name": "python3"
  },
  "language_info": {
   "codemirror_mode": {
    "name": "ipython",
    "version": 3
   },
   "file_extension": ".py",
   "mimetype": "text/x-python",
   "name": "python",
   "nbconvert_exporter": "python",
   "pygments_lexer": "ipython3",
   "version": "3.6.3"
  }
 },
 "nbformat": 4,
 "nbformat_minor": 2
}
